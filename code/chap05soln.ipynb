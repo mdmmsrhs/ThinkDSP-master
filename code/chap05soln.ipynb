{
 "cells": [
  {
   "cell_type": "markdown",
   "metadata": {},
   "source": [
    "##ThinkDSP\n",
    "\n",
    "This notebook contains code solutions to exercises in Chapter 5: Autocorrelation\n",
    "\n",
    "Copyright 2015 Allen Downey\n",
    "\n",
    "License: [Creative Commons Attribution 4.0 International](http://creativecommons.org/licenses/by/4.0/)"
   ]
  },
  {
   "cell_type": "code",
   "execution_count": null,
   "metadata": {
    "collapsed": false
   },
   "outputs": [],
   "source": [
    "from __future__ import print_function, division\n",
    "\n",
    "import thinkdsp\n",
    "import thinkplot\n",
    "import thinkstats2\n",
    "\n",
    "import numpy as np\n",
    "import pandas as pd\n",
    "\n",
    "%matplotlib inline"
   ]
  },
  {
   "cell_type": "markdown",
   "metadata": {},
   "source": [
    "**Exercise:** If you did the exercises in the previous chapter, you downloaded\n",
    "the historical price of BitCoins and estimated the power spectrum\n",
    "of the price changes.  Using the same data, compute the autocorrelation\n",
    "of BitCoin prices.  Does the autocorrelation function drop off quickly?  Is there evidence of periodic behavior?"
   ]
  },
  {
   "cell_type": "code",
   "execution_count": null,
   "metadata": {
    "collapsed": true
   },
   "outputs": [],
   "source": [
    "df = pd.read_csv('coindesk-bpi-USD-close.csv', nrows=1625, parse_dates=[0])\n",
    "ys = df.Close.values"
   ]
  },
  {
   "cell_type": "code",
   "execution_count": null,
   "metadata": {
    "collapsed": false
   },
   "outputs": [],
   "source": [
    "wave = thinkdsp.Wave(ys, framerate=1)\n",
    "wave.plot()"
   ]
  },
  {
   "cell_type": "markdown",
   "metadata": {},
   "source": [
    "Here's the autocorrelation function using the statistical definition, which unbiases, normalizes, and standardizes; that is, it shifts the mean to zero, divides through by standard deviation, and divides the sum by N."
   ]
  },
  {
   "cell_type": "code",
   "execution_count": null,
   "metadata": {
    "collapsed": false
   },
   "outputs": [],
   "source": [
    "from autocorr import autocorr\n",
    "\n",
    "lags, corrs = autocorr(wave)\n",
    "\n",
    "thinkplot.preplot(5)\n",
    "thinkplot.plot(lags, corrs)\n",
    "thinkplot.config(xlabel='lag',\n",
    "                 ylabel='correlation')"
   ]
  },
  {
   "cell_type": "markdown",
   "metadata": {},
   "source": [
    "The ACF drops off slowly with increasing lag, suggesting some kind of pink noise.  And it looks like there are moderate correlations with lags near 200, 425 and 700 days."
   ]
  },
  {
   "cell_type": "markdown",
   "metadata": {},
   "source": [
    "We can compare my implementation of `autocorr` with `np.correlate`, which uses the definition of correlation used in signal processing.  It doesn't unbias, normalize, or standardize the wave."
   ]
  },
  {
   "cell_type": "code",
   "execution_count": null,
   "metadata": {
    "collapsed": false
   },
   "outputs": [],
   "source": [
    "corrs2 = np.correlate(wave.ys, wave.ys, mode='same')\n",
    "\n",
    "thinkplot.preplot(1)\n",
    "thinkplot.plot(corrs2)\n",
    "thinkplot.config(xlabel='lag',\n",
    "                 ylabel='dot product')"
   ]
  },
  {
   "cell_type": "markdown",
   "metadata": {},
   "source": [
    "The second half of the result corresponds to positive lags:"
   ]
  },
  {
   "cell_type": "code",
   "execution_count": null,
   "metadata": {
    "collapsed": false
   },
   "outputs": [],
   "source": [
    "N = len(corrs2)\n",
    "half = corrs2[N//2:]\n",
    "thinkplot.plot(half)\n",
    "thinkplot.config(xlabel='lag',\n",
    "                 ylabel='dot product')"
   ]
  },
  {
   "cell_type": "markdown",
   "metadata": {},
   "source": [
    "We can standardize the results after the fact by dividing through by `lengths`:"
   ]
  },
  {
   "cell_type": "code",
   "execution_count": null,
   "metadata": {
    "collapsed": false
   },
   "outputs": [],
   "source": [
    "lengths = range(N, N//2, -1)\n",
    "half /= lengths\n",
    "half /= half[0]\n",
    "thinkplot.plot(half)\n",
    "thinkplot.config(xlabel='lag',\n",
    "                 ylabel='dot product')"
   ]
  },
  {
   "cell_type": "markdown",
   "metadata": {},
   "source": [
    "But even after standardizing, the results look very different.  In the results from `correlate`, the peak at lag 200 is less apparent, and the other two peaks are obliterated."
   ]
  },
  {
   "cell_type": "code",
   "execution_count": null,
   "metadata": {
    "collapsed": false
   },
   "outputs": [],
   "source": [
    "thinkplot.preplot(2)\n",
    "thinkplot.plot(corrs, label='autocorr')\n",
    "thinkplot.plot(half, label='correlate')\n",
    "thinkplot.config(xlabel='lag', ylabel='correlation')"
   ]
  },
  {
   "cell_type": "markdown",
   "metadata": {},
   "source": [
    "I think the reason the results are so different is that this dataset looks very different in different parts of the range; in particular, the variance changes a lot over time.\n",
    "\n",
    "For this dataset, the statistical definition of ACF, is probably more appropriate.\n"
   ]
  },
  {
   "cell_type": "markdown",
   "metadata": {},
   "source": [
    "**Exercise:** The example code in `chap05.ipynb` shows how to use autocorrelation\n",
    "to estimate the fundamental frequency of a periodic signal.\n",
    "Encapsulate this code in a function called `estimate_fundamental`,\n",
    "and use it to track the pitch of a recorded sound.\n",
    "\n",
    "To see how well it works, try superimposing your pitch estimates on a\n",
    "spectrogram of the recording."
   ]
  },
  {
   "cell_type": "code",
   "execution_count": null,
   "metadata": {
    "collapsed": false
   },
   "outputs": [],
   "source": [
    "wave = thinkdsp.read_wave('28042__bcjordan__voicedownbew.wav')\n",
    "wave.normalize()\n",
    "wave.make_audio()"
   ]
  },
  {
   "cell_type": "markdown",
   "metadata": {},
   "source": [
    "I'll use the same example from `chap05.ipynb`.  Here's the spectrogram:"
   ]
  },
  {
   "cell_type": "code",
   "execution_count": null,
   "metadata": {
    "collapsed": false
   },
   "outputs": [],
   "source": [
    "wave.make_spectrogram(4096).plot(high=70)"
   ]
  },
  {
   "cell_type": "markdown",
   "metadata": {},
   "source": [
    "And here's a function that encapsulates the code from Chapter 5.  In general, finding the first, highest peak in the autocorrelation function is tricky.  I kept is simple by specifying the range of lags to search."
   ]
  },
  {
   "cell_type": "code",
   "execution_count": null,
   "metadata": {
    "collapsed": true
   },
   "outputs": [],
   "source": [
    "def estimate_fundamental(segment, low=70, high=150):\n",
    "    lags, corrs = autocorr(segment)\n",
    "    lag = np.array(corrs[low:high]).argmax() + low\n",
    "    period = lag / segment.framerate\n",
    "    frequency = 1 / period\n",
    "    return frequency"
   ]
  },
  {
   "cell_type": "markdown",
   "metadata": {},
   "source": [
    "Here's an example of how it works."
   ]
  },
  {
   "cell_type": "code",
   "execution_count": null,
   "metadata": {
    "collapsed": false
   },
   "outputs": [],
   "source": [
    "duration = 0.01\n",
    "segment = wave.segment(start=0.2, duration=duration)\n",
    "freq = estimate_fundamental(segment)\n",
    "freq"
   ]
  },
  {
   "cell_type": "markdown",
   "metadata": {},
   "source": [
    "And here's a loop that tracks pitch over the sample.\n",
    "\n",
    "The `ts` are the mid-points of each segment."
   ]
  },
  {
   "cell_type": "code",
   "execution_count": null,
   "metadata": {
    "collapsed": false
   },
   "outputs": [],
   "source": [
    "step = 0.05\n",
    "starts = np.arange(0.0, 1.4, step)\n",
    "\n",
    "ts = []\n",
    "freqs = []\n",
    "\n",
    "for start in starts:\n",
    "    ts.append(start + step/2)\n",
    "    segment = wave.segment(start=start, duration=duration)\n",
    "    freq = estimate_fundamental(segment)\n",
    "    freqs.append(freq)"
   ]
  },
  {
   "cell_type": "markdown",
   "metadata": {},
   "source": [
    "Here's the pitch-tracking curve superimposed on the spectrogram:"
   ]
  },
  {
   "cell_type": "code",
   "execution_count": null,
   "metadata": {
    "collapsed": false
   },
   "outputs": [],
   "source": [
    "wave.make_spectrogram(4096).plot(high=70)\n",
    "thinkplot.plot(ts, freqs, color='green')"
   ]
  },
  {
   "cell_type": "markdown",
   "metadata": {},
   "source": [
    "Looks pretty good!"
   ]
  },
  {
   "cell_type": "code",
   "execution_count": null,
   "metadata": {
    "collapsed": true
   },
   "outputs": [],
   "source": []
  }
 ],
 "metadata": {
  "kernelspec": {
   "display_name": "Python 2",
   "language": "python",
   "name": "python2"
  },
  "language_info": {
   "codemirror_mode": {
    "name": "ipython",
    "version": 2
   },
   "file_extension": ".py",
   "mimetype": "text/x-python",
   "name": "python",
   "nbconvert_exporter": "python",
   "pygments_lexer": "ipython2",
   "version": "2.7.10"
  }
 },
 "nbformat": 4,
 "nbformat_minor": 0
}
