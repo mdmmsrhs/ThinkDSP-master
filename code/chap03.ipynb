{
 "cells": [
  {
   "cell_type": "markdown",
   "metadata": {},
   "source": [
    "##ThinkDSP\n",
    "\n",
    "This notebook contains code examples from Chapter 3: Non-periodic signals\n",
    "\n",
    "Copyright 2015 Allen Downey\n",
    "\n",
    "License: [Creative Commons Attribution 4.0 International](http://creativecommons.org/licenses/by/4.0/)"
   ]
  },
  {
   "cell_type": "code",
   "execution_count": null,
   "metadata": {
    "collapsed": false
   },
   "outputs": [],
   "source": [
    "from __future__ import print_function, division\n",
    "\n",
    "import thinkdsp\n",
    "import thinkplot\n",
    "import numpy\n",
    "\n",
    "%precision 3\n",
    "%matplotlib inline"
   ]
  },
  {
   "cell_type": "markdown",
   "metadata": {},
   "source": [
    "Make a linear chirp from A3 to A5."
   ]
  },
  {
   "cell_type": "code",
   "execution_count": null,
   "metadata": {
    "collapsed": false
   },
   "outputs": [],
   "source": [
    "signal = thinkdsp.Chirp(start=220, end=880)\n",
    "wave1 = signal.make_wave(duration=2)\n",
    "wave1.make_audio()"
   ]
  },
  {
   "cell_type": "markdown",
   "metadata": {},
   "source": [
    "Here's what the waveform looks like near the beginning."
   ]
  },
  {
   "cell_type": "code",
   "execution_count": null,
   "metadata": {
    "collapsed": false
   },
   "outputs": [],
   "source": [
    "wave1.segment(start=0, duration=0.01).plot()\n",
    "thinkplot.config(xlabel='time (s)', ylabel='amplitude', legend=False)"
   ]
  },
  {
   "cell_type": "markdown",
   "metadata": {},
   "source": [
    "And near the end."
   ]
  },
  {
   "cell_type": "code",
   "execution_count": null,
   "metadata": {
    "collapsed": false
   },
   "outputs": [],
   "source": [
    "wave1.segment(start=1.9, duration=0.01).plot()\n",
    "thinkplot.config(xlabel='time (s)', ylabel='amplitude', legend=False)"
   ]
  },
  {
   "cell_type": "markdown",
   "metadata": {},
   "source": [
    "Here's an exponential chirp with the same frequency range and duration."
   ]
  },
  {
   "cell_type": "code",
   "execution_count": null,
   "metadata": {
    "collapsed": false
   },
   "outputs": [],
   "source": [
    "signal = thinkdsp.ExpoChirp(start=220, end=880)\n",
    "wave2 = signal.make_wave(duration=2)\n",
    "wave2.make_audio()"
   ]
  },
  {
   "cell_type": "markdown",
   "metadata": {},
   "source": [
    "Let's look at the effect of leakage on a sine signal."
   ]
  },
  {
   "cell_type": "code",
   "execution_count": null,
   "metadata": {
    "collapsed": false
   },
   "outputs": [],
   "source": [
    "signal = thinkdsp.SinSignal(freq=440)"
   ]
  },
  {
   "cell_type": "markdown",
   "metadata": {},
   "source": [
    "If the duration is an integer multiple of the period, the beginning and end of the segment line up, and we get minimal leakage."
   ]
  },
  {
   "cell_type": "code",
   "execution_count": null,
   "metadata": {
    "collapsed": false
   },
   "outputs": [],
   "source": [
    "duration = signal.period * 30\n",
    "wave = signal.make_wave(duration)\n",
    "wave.plot()\n",
    "thinkplot.config(xlabel='time (s)', ylabel='amplitude', legend=False)"
   ]
  },
  {
   "cell_type": "code",
   "execution_count": null,
   "metadata": {
    "collapsed": false
   },
   "outputs": [],
   "source": [
    "spectrum = wave.make_spectrum()\n",
    "spectrum.plot(high=50)\n",
    "thinkplot.config(xlabel='frequency (Hz)', ylabel='amplitude', legend=False)"
   ]
  },
  {
   "cell_type": "markdown",
   "metadata": {},
   "source": [
    "If the duration is off by half a period, the leakage is pretty bad."
   ]
  },
  {
   "cell_type": "code",
   "execution_count": null,
   "metadata": {
    "collapsed": false
   },
   "outputs": [],
   "source": [
    "duration = signal.period * 30.25\n",
    "wave = signal.make_wave(duration)\n",
    "wave.plot()\n",
    "thinkplot.config(xlabel='time (s)', ylabel='amplitude', legend=False)"
   ]
  },
  {
   "cell_type": "code",
   "execution_count": null,
   "metadata": {
    "collapsed": false
   },
   "outputs": [],
   "source": [
    "spectrum = wave.make_spectrum()\n",
    "spectrum.plot(high=50)\n",
    "thinkplot.config(xlabel='frequency (Hz)', ylabel='amplitude', legend=False)"
   ]
  },
  {
   "cell_type": "markdown",
   "metadata": {},
   "source": [
    "Windowing helps (but notice that it reduces the total energy)."
   ]
  },
  {
   "cell_type": "code",
   "execution_count": null,
   "metadata": {
    "collapsed": false
   },
   "outputs": [],
   "source": [
    "wave.hamming()\n",
    "spectrum = wave.make_spectrum()\n",
    "spectrum.plot(high=50)\n",
    "thinkplot.config(xlabel='frequency (Hz)', ylabel='amplitude', legend=False)"
   ]
  },
  {
   "cell_type": "markdown",
   "metadata": {},
   "source": [
    "If you blindly compute the DFT of a non-periodic segment, you get \"motion blur\"."
   ]
  },
  {
   "cell_type": "code",
   "execution_count": null,
   "metadata": {
    "collapsed": false
   },
   "outputs": [],
   "source": [
    "signal = thinkdsp.Chirp(start=220, end=440)\n",
    "wave = signal.make_wave(duration=1)\n",
    "spectrum = wave.make_spectrum()\n",
    "spectrum.plot(high=700)\n",
    "thinkplot.config(xlabel='frequency (Hz)', ylabel='amplitude', legend=False)"
   ]
  },
  {
   "cell_type": "markdown",
   "metadata": {},
   "source": [
    "A spectrogram is a visualization of a short-time DFT that lets you see how the spectrum varies over time."
   ]
  },
  {
   "cell_type": "code",
   "execution_count": null,
   "metadata": {
    "collapsed": false
   },
   "outputs": [],
   "source": [
    "signal = thinkdsp.Chirp(start=220, end=440)\n",
    "wave = signal.make_wave(duration=1, framerate=11025)\n",
    "spectrogram = wave.make_spectrogram(seg_length=512)\n",
    "spectrogram.plot(high=32)\n",
    "thinkplot.config(xlabel='time(s)', ylabel='frequency (Hz)', legend=False)"
   ]
  },
  {
   "cell_type": "markdown",
   "metadata": {},
   "source": [
    "If you increase the segment length, you get better frequency resolution, worse time resolution."
   ]
  },
  {
   "cell_type": "code",
   "execution_count": null,
   "metadata": {
    "collapsed": false
   },
   "outputs": [],
   "source": [
    "spectrogram = wave.make_spectrogram(seg_length=1024)\n",
    "spectrogram.plot(high=64)\n",
    "thinkplot.config(xlabel='time(s)', ylabel='frequency (Hz)', legend=False)"
   ]
  },
  {
   "cell_type": "markdown",
   "metadata": {},
   "source": [
    "If you decrease the segment length, you get better time resolution, worse frequency resolution."
   ]
  },
  {
   "cell_type": "code",
   "execution_count": null,
   "metadata": {
    "collapsed": false
   },
   "outputs": [],
   "source": [
    "spectrogram = wave.make_spectrogram(seg_length=256)\n",
    "spectrogram.plot(high=16)\n",
    "thinkplot.config(xlabel='time(s)', ylabel='frequency (Hz)', legend=False)"
   ]
  },
  {
   "cell_type": "markdown",
   "metadata": {},
   "source": [
    " "
   ]
  },
  {
   "cell_type": "code",
   "execution_count": null,
   "metadata": {
    "collapsed": false
   },
   "outputs": [],
   "source": [
    "def eye_of_sauron(start, end):\n",
    "    signal = thinkdsp.Chirp(start=start, end=end)\n",
    "    wave = signal.make_wave(duration=0.5)\n",
    "    spectrum = wave.make_spectrum()\n",
    "    \n",
    "    thinkplot.preplot(1)\n",
    "    spectrum.plot(high=500)\n",
    "    thinkplot.config(xlabel='frequency (Hz)', ylabel='amplitude', legend=False)"
   ]
  },
  {
   "cell_type": "code",
   "execution_count": null,
   "metadata": {
    "collapsed": false
   },
   "outputs": [],
   "source": [
    "from IPython.html.widgets import interact\n",
    "from IPython.html import widgets\n",
    "\n",
    "slider1 = widgets.FloatSlider(min=100, max=1000, value=100, step=100)\n",
    "slider2 = widgets.FloatSlider(min=100, max=1000, value=200, step=100)\n",
    "interact(eye_of_sauron, start=slider1, end=slider2);"
   ]
  },
  {
   "cell_type": "code",
   "execution_count": null,
   "metadata": {
    "collapsed": false
   },
   "outputs": [],
   "source": []
  }
 ],
 "metadata": {
  "kernelspec": {
   "display_name": "Python 2",
   "language": "python",
   "name": "python2"
  },
  "language_info": {
   "codemirror_mode": {
    "name": "ipython",
    "version": 2
   },
   "file_extension": ".py",
   "mimetype": "text/x-python",
   "name": "python",
   "nbconvert_exporter": "python",
   "pygments_lexer": "ipython2",
   "version": "2.7.10"
  }
 },
 "nbformat": 4,
 "nbformat_minor": 0
}
